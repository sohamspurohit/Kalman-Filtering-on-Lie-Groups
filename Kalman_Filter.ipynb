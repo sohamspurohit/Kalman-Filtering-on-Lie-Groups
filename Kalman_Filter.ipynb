{
  "nbformat": 4,
  "nbformat_minor": 0,
  "metadata": {
    "colab": {
      "name": "Kalman Filter",
      "provenance": [],
      "collapsed_sections": []
    },
    "kernelspec": {
      "name": "python3",
      "display_name": "Python 3"
    }
  },
  "cells": [
    {
      "cell_type": "markdown",
      "metadata": {
        "id": "XWqxQuME2b1F"
      },
      "source": [
        "## Kalman Filter\n",
        "This is a Kalman Filter for the case of a simple pendulum rotating about the horizontal axis. Its aim is to converge to the value of angular velocity without actually differentiating the angular displacement with respect to time. Some simplifications have been made: Torque as well as the process and the measurement noise matrices are all taken as 0."
      ]
    },
    {
      "cell_type": "code",
      "metadata": {
        "id": "sQBHoMgLgGdC"
      },
      "source": [
        "#importing necessary libraries\n",
        "import numpy as np\n",
        "import matplotlib.pyplot as plt\n",
        "import pandas as pd"
      ],
      "execution_count": null,
      "outputs": []
    },
    {
      "cell_type": "markdown",
      "metadata": {
        "id": "INBSq6K539i-"
      },
      "source": [
        "The state equation is as follows:\n",
        "\\begin{gather}\n",
        " \\begin{bmatrix} \\theta \\\\ \\theta ' \\end{bmatrix}\n",
        " =\n",
        "  \\begin{bmatrix}\n",
        "   1 &\n",
        "   \\Delta t \\\\\n",
        "   0 &\n",
        "   1 \n",
        "   \\end{bmatrix}\n",
        "   \\begin{bmatrix}\n",
        "    \\theta \\\\\n",
        "    \\theta '\n",
        "   \\end{bmatrix}+\n",
        "   \\begin{bmatrix}\n",
        "    \\frac{\\Delta t^2}{2ml^2} \\\\\n",
        "    \\frac{\\Delta t}{ml^2}\n",
        "   \\end{bmatrix} T + w_k\n",
        "\\end{gather}\n",
        "\n",
        "This, after discretization, gives us the update equations. T was taken as 0 since its coefficient matrix was turning out to be difficult to convert using the rules. Hence, the update equation is:\n",
        "\n",
        "\\begin{gather}\n",
        " \\begin{bmatrix} \\theta_{k} \\\\ \\theta _{k}' \\end{bmatrix}\n",
        " =\n",
        "  \\begin{bmatrix}\n",
        "   cos(\\sqrt{\\frac{g}{l}}t) &\n",
        "   -\\sqrt{\\frac{g}{l}}sin(\\sqrt{\\frac{g}{l}}t) \\\\\n",
        "   \\sqrt{\\frac{l}{g}}sin(\\sqrt{\\frac{g}{l}}t) &\n",
        "   cos(\\sqrt{\\frac{g}{l}}t) \n",
        "   \\end{bmatrix}\n",
        "   \\begin{bmatrix} \\theta_{k-1} \\\\ \\theta _{k-1}' \n",
        "   \\end{bmatrix}+\n",
        "    w_k\n",
        "\\end{gather}\n",
        "\n",
        "\n"
      ]
    },
    {
      "cell_type": "code",
      "metadata": {
        "id": "n_ZCcZN6FWFi"
      },
      "source": [
        "#declaring the constants\n",
        "length=1.0\n",
        "g=9.81\n",
        "time_step=0.5\n",
        "iter=100\n",
        "A=np.array([[np.cos(np.sqrt(g/length)*time_step),-np.sqrt(g/length)*np.sin(np.sqrt(g/length)*time_step)],[np.sqrt(length)*np.sin(np.sqrt(g/length)*time_step),np.cos(np.sqrt(g/length)*time_step)]])\n",
        "C=np.array([[1,0],[0,1]])\n",
        "H=np.array([[1,0],[0,1]])\n",
        "B=np.array([0,0])[np.newaxis].T"
      ],
      "execution_count": null,
      "outputs": []
    },
    {
      "cell_type": "markdown",
      "metadata": {
        "id": "LDtJcm1y9oQa"
      },
      "source": [
        "New predicted state: \\\\\n",
        "$X_{kp}=AX_k+Bu_k+w_k$"
      ]
    },
    {
      "cell_type": "code",
      "metadata": {
        "id": "zsxCqIcTjaFW"
      },
      "source": [
        "#function that calculates predicted estimate\n",
        "def pred_state(x,u):\n",
        "  x_pred= np.dot(A,x)+np.dot(B,u)  #need to learn how to model process noise\n",
        "  return x_pred"
      ],
      "execution_count": null,
      "outputs": []
    },
    {
      "cell_type": "markdown",
      "metadata": {
        "id": "vPJV38eU-J7l"
      },
      "source": [
        "Measured value: \\\\\n",
        "$Y_k=CY_{km}+z_m$ \\\\"
      ]
    },
    {
      "cell_type": "code",
      "metadata": {
        "id": "9JeVA17JEnh3"
      },
      "source": [
        "#function that calculates measured value\n",
        "def measure(y):\n",
        "  yk=np.dot(C,y) #need to learn how to model measurement noise\n",
        "  return yk"
      ],
      "execution_count": null,
      "outputs": []
    },
    {
      "cell_type": "markdown",
      "metadata": {
        "id": "O8BUk5sa-zzT"
      },
      "source": [
        "Predicted Covariance: \\\\\n",
        "$P_{kp}=AP_kA^T+Q_k$ \\\\"
      ]
    },
    {
      "cell_type": "code",
      "metadata": {
        "id": "VnRdnfaVkcnV"
      },
      "source": [
        "#function that calculates predicted covariance\n",
        "def pred_cov(P):\n",
        "  p_pred=np.dot(np.dot(A,P),(A.T))  #need to learn how to model process covariance\n",
        "  return p_pred"
      ],
      "execution_count": null,
      "outputs": []
    },
    {
      "cell_type": "markdown",
      "metadata": {
        "id": "eiG-9LXi_LbB"
      },
      "source": [
        "Kalman Gain: \\\\\n",
        "$K= \\frac{P_{kp}H^T}{HP_{kp}H^T+R}$"
      ]
    },
    {
      "cell_type": "code",
      "metadata": {
        "id": "UnKLzK-HlEGR"
      },
      "source": [
        "#function that calculates Kalman Gain\n",
        "def kal_gain(P,R):\n",
        "  K=np.dot(np.dot(P,H.T),(np.linalg.inv(np.dot(np.dot(H,P),H.T)+R)))\n",
        "  return K"
      ],
      "execution_count": null,
      "outputs": []
    },
    {
      "cell_type": "markdown",
      "metadata": {
        "id": "ewS9M-uw_hmv"
      },
      "source": [
        "New Estimate: \\\\\n",
        "$X_{k+1}=X_{kp}+K[Y-HX_{kp}]$"
      ]
    },
    {
      "cell_type": "code",
      "metadata": {
        "id": "SHWDakNnlqNo"
      },
      "source": [
        "#function that calculates new estimate\n",
        "def new_est(x,K,y):\n",
        "  x_new=x+np.dot(K,(y-np.dot(H,x)))\n",
        "  return x_new"
      ],
      "execution_count": null,
      "outputs": []
    },
    {
      "cell_type": "markdown",
      "metadata": {
        "id": "GK27nAkq_xBF"
      },
      "source": [
        "New Covariance: \\\\\n",
        "$P_{k+1}=(I-KH)P_{kp}$"
      ]
    },
    {
      "cell_type": "code",
      "metadata": {
        "id": "nhwgwXCRnTYc"
      },
      "source": [
        "#function that calculates new covriance\n",
        "def new_cov(I,K,P):\n",
        "  P_new=np.dot((I-np.dot(K,H)),P)\n",
        "  return P_new"
      ],
      "execution_count": null,
      "outputs": []
    },
    {
      "cell_type": "markdown",
      "metadata": {
        "id": "Xva3Ga1OAAfx"
      },
      "source": [
        "Initial input is always required and can't be automated, hence we take input for the initial state matrix as well as the associated covariance. $\\xi_1$ and $\\xi_2$ are considered to be independent of each other, hence the covariance terms are taken as 0."
      ]
    },
    {
      "cell_type": "code",
      "metadata": {
        "id": "Imb4YUgentjH",
        "colab": {
          "base_uri": "https://localhost:8080/"
        },
        "outputId": "b898c9b2-d338-4bdf-9763-b14bf4b32ccf"
      },
      "source": [
        "#declaring the variables\n",
        "init_state=np.zeros(shape=(2,1))\n",
        "init_cov=np.zeros(shape=(2,2))\n",
        "#initial state vector input\n",
        "chi_1=float(input())\n",
        "chi_2=float(input())\n",
        "var_chi1=float(input())\n",
        "var_chi2=float(input())\n",
        "init_state[0][0]=chi_1\n",
        "init_state[1][0]=chi_2\n",
        "init_cov[0][0]=var_chi1\n",
        "init_cov[1][1]=var_chi2\n",
        "init_cov[0][1]=0\n",
        "init_cov[1][0]=0"
      ],
      "execution_count": null,
      "outputs": [
        {
          "output_type": "stream",
          "text": [
            "5\n",
            "10\n",
            "1\n",
            "1\n"
          ],
          "name": "stdout"
        }
      ]
    },
    {
      "cell_type": "code",
      "metadata": {
        "id": "Vn3f9oWYfe4m",
        "colab": {
          "base_uri": "https://localhost:8080/"
        },
        "outputId": "285595a7-cd4c-454a-c8c3-73c24c0424b9"
      },
      "source": [
        "error=[]\n",
        "X=init_state\n",
        "P=init_cov\n",
        "for i in range(iter):\n",
        "  x_pred=pred_state(X,0)\n",
        "  p_pred=pred_cov(P)\n",
        "  #measured values are modeled as the predicted values + noise, making the process fully automated\n",
        "  meas=x_pred+5*np.random.rand(2,1)\n",
        "  R=p_pred+5*np.random.rand(2,2)\n",
        "  y_k=measure(meas)\n",
        "  K=kal_gain(p_pred,R)\n",
        "  X=new_est(x_pred,K,y_k)\n",
        "  P=new_cov(np.array([[1,0],[0,1]]),K,p_pred)\n",
        "  error.append(np.dot((X-x_pred).T,(X-x_pred)))\n",
        "  #here, we can store the values in an array for final plotting\n",
        "print(X)\n",
        "print(P)\n",
        "print(error)"
      ],
      "execution_count": null,
      "outputs": [
        {
          "output_type": "stream",
          "text": [
            "[[5.56264357e+25]\n",
            " [5.29938070e+25]]\n",
            "[[8.59245264e+19 1.98109645e+19]\n",
            " [1.11795479e+19 3.93697162e+19]]\n",
            "[array([[0.00237425]]), array([[3.21359622]]), array([[0.47969521]]), array([[3.26683085]]), array([[0.50504736]]), array([[10.80621097]]), array([[3.47655282]]), array([[2.44346916]]), array([[1.91274806]]), array([[3.20878335]]), array([[6.02702728]]), array([[0.75794048]]), array([[11.10616873]]), array([[0.0641835]]), array([[5.30451756]]), array([[4.79304547]]), array([[1.35859736]]), array([[3.60197493]]), array([[2.1984167]]), array([[5.89602081]]), array([[0.51645776]]), array([[0.27246352]]), array([[0.69356075]]), array([[4.53811313]]), array([[2.40784045]]), array([[5.14401864]]), array([[8.53612464]]), array([[5.38699678]]), array([[11.04656226]]), array([[0.42685132]]), array([[3.82718029]]), array([[4.19039114]]), array([[2.00851231]]), array([[2.32023548]]), array([[9.02645238]]), array([[1.84198402]]), array([[2.01839879]]), array([[3.47784306]]), array([[3.76656314]]), array([[3.02746138]]), array([[3.31805559]]), array([[2.04677926]]), array([[2.25536678]]), array([[4.88933082]]), array([[1.31204464]]), array([[0.97431237]]), array([[0.97083908]]), array([[3.63086891]]), array([[6.48668766]]), array([[8.58021927]]), array([[6.53189468]]), array([[0.31298828]]), array([[5.65435791]]), array([[6.25]]), array([[2.640625]]), array([[4.078125]]), array([[0.015625]]), array([[0.]]), array([[8.]]), array([[2.]]), array([[4.]]), array([[4.]]), array([[0.]]), array([[0.]]), array([[0.]]), array([[0.]]), array([[0.]]), array([[0.]]), array([[0.]]), array([[0.]]), array([[0.]]), array([[0.]]), array([[0.]]), array([[0.]]), array([[0.]]), array([[0.]]), array([[0.]]), array([[0.]]), array([[0.]]), array([[0.]]), array([[0.]]), array([[0.]]), array([[0.]]), array([[0.]]), array([[0.]]), array([[0.]]), array([[0.]]), array([[0.]]), array([[0.]]), array([[0.]]), array([[0.]]), array([[0.]]), array([[0.]]), array([[0.]]), array([[0.]]), array([[0.]]), array([[0.]]), array([[0.]]), array([[0.]]), array([[0.]])]\n"
          ],
          "name": "stdout"
        }
      ]
    },
    {
      "cell_type": "markdown",
      "metadata": {
        "id": "RBYTT-zOB-BK"
      },
      "source": [
        "Things left to do: \\\\\n",
        "1) Realistic values to check if the final outputs are fine \\\\\n",
        "2) Plotting to visualize convergence"
      ]
    },
    {
      "cell_type": "code",
      "metadata": {
        "colab": {
          "base_uri": "https://localhost:8080/",
          "height": 367
        },
        "id": "pEPrWGLWE-Rp",
        "outputId": "1572fdd0-b727-4e86-c551-733c2da26478"
      },
      "source": [
        "x=range(100)\n",
        "plt.figure(figsize=(8,5))\n",
        "plt.title(\"Modulus of Error vs Iteration Number\")\n",
        "plt.xlabel(\"Iteration Number\")\n",
        "plt.ylabel(\"Norm of Error-squared\")\n",
        "plt.scatter(x,error,s=20,c='black')"
      ],
      "execution_count": null,
      "outputs": [
        {
          "output_type": "execute_result",
          "data": {
            "text/plain": [
              "<matplotlib.collections.PathCollection at 0x7f1c2bd0ae10>"
            ]
          },
          "metadata": {
            "tags": []
          },
          "execution_count": 11
        },
        {
          "output_type": "display_data",
          "data": {
            "image/png": "[encoded data removed]",
            "text/plain": [
              "<Figure size 576x360 with 1 Axes>"
            ]
          },
          "metadata": {
            "tags": [],
            "needs_background": "light"
          }
        }
      ]
    }
  ]
}