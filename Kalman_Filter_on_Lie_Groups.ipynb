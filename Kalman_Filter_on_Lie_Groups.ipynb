{
  "nbformat": 4,
  "nbformat_minor": 0,
  "metadata": {
    "colab": {
      "name": "Kalman Filter on Lie Groups.ipynb",
      "provenance": [],
      "collapsed_sections": []
    },
    "kernelspec": {
      "name": "python3",
      "display_name": "Python 3"
    },
    "language_info": {
      "name": "python"
    }
  },
  "cells": [
    {
      "cell_type": "code",
      "execution_count": 1,
      "metadata": {
        "id": "b6cDismsGthh"
      },
      "outputs": [],
      "source": [
        "import numpy as np\n",
        "import matplotlib.pyplot as plt"
      ]
    },
    {
      "cell_type": "code",
      "source": [
        "time=10.0\n",
        "steps=100.0\n",
        "h=time/steps"
      ],
      "metadata": {
        "id": "6zpzUU4AKkSi"
      },
      "execution_count": 2,
      "outputs": []
    },
    {
      "cell_type": "code",
      "source": [
        "#generating inputs\n",
        "Omega=[]\n",
        "for i in range(int(steps)):\n",
        "  x=5.0 #+np.random.randn()\n",
        "  omg=np.array([[0, x], [-x, 0]])\n",
        "  Omega.append(omg)"
      ],
      "metadata": {
        "id": "ojofjSlpLYH0"
      },
      "execution_count": 3,
      "outputs": []
    },
    {
      "cell_type": "code",
      "source": [
        "def vee(M):\n",
        "  return M[1,0]\n",
        "\n",
        "def hat(v):\n",
        "  out = np.zeros((2,2))\n",
        "  out[0,1] = -v\n",
        "  out[1,0] = v\n",
        "  return out"
      ],
      "metadata": {
        "id": "k8dFLfhbSyzH"
      },
      "execution_count": 4,
      "outputs": []
    },
    {
      "cell_type": "code",
      "source": [
        "#function for calculating matrix exponential; check whether it returns a rotation matrix and a correct example \n",
        "def expo(A):\n",
        "  omega = vee(A)\n",
        "  norm_omega = np.linalg.norm(omega)\n",
        "  A = hat(omega/norm_omega)\n",
        "  theta = norm_omega*h\n",
        "  return np.array([[1,0],[0,1]])+np.sin(theta)*A+(1-np.cos(theta))*np.matmul(A,A)\n",
        "\n",
        "#omega = (np.pi/180.0)*30.0\n",
        "#print(expo(hat(omega)))"
      ],
      "metadata": {
        "id": "njovG-OtMP-X"
      },
      "execution_count": 5,
      "outputs": []
    },
    {
      "cell_type": "code",
      "source": [
        "R=[]\n",
        "R_old=np.array([[np.cos(0.86),-np.sin(0.86)],[np.sin(0.86),np.cos(0.86)]])\n",
        "R.append(R_old)\n",
        "for i in range(int(steps)):\n",
        "  R_curr=np.matmul(R_old,expo(Omega[i]))\n",
        "  R.append(R_curr) \n",
        "  R_old=R_curr"
      ],
      "metadata": {
        "id": "atcaeZPfQgDL"
      },
      "execution_count": 6,
      "outputs": []
    },
    {
      "cell_type": "code",
      "source": [
        "eta_1=np.array([[1/np.sqrt(2)],[1/np.sqrt(2)]])\n",
        "eta_2=np.array([[-2/np.sqrt(13)],[3/np.sqrt(13)]])"
      ],
      "metadata": {
        "id": "sFIxqoArgXmY"
      },
      "execution_count": 7,
      "outputs": []
    },
    {
      "cell_type": "code",
      "source": [
        "y_1=[]\n",
        "y_2=[]\n",
        "for i in range(int(steps)+1):\n",
        "  y_1.append(np.matmul(np.transpose(R[i]),eta_1))\n",
        "  y_2.append(np.matmul(np.transpose(R[i]),eta_2))"
      ],
      "metadata": {
        "id": "XYH5zr1rg9HL"
      },
      "execution_count": 8,
      "outputs": []
    },
    {
      "cell_type": "code",
      "source": [
        "k=5\n",
        "Rhat=[]\n",
        "Rhat_old=np.array([[np.cos(0.2),-np.sin(0.2)],[np.sin(0.2),np.cos(0.2)]])\n",
        "Rhat.append(Rhat_old)\n",
        "for i in range(int(steps)):\n",
        "  Omega_e=(-np.matmul(eta_1,np.matmul(np.transpose(y_1[i+1]),np.transpose(Rhat_old)))+np.matmul(Rhat_old,np.matmul(y_1[i+1],np.transpose(eta_1))))-np.matmul(eta_2,np.matmul(np.transpose(y_1[i+1]),np.transpose(Rhat_old)))+np.matmul(Rhat_old,np.matmul(y_1[i+1],np.transpose(eta_2)))\n",
        "  Delta=k*(np.matmul(np.transpose(Rhat_old),np.matmul(Omega_e,Rhat_old)))\n",
        "  mat=Omega[i]-Delta\n",
        "  Rhat_new=np.matmul(Rhat_old,expo(mat))\n",
        "  Rhat.append(Rhat_new)\n",
        "  Rhat_old=Rhat_new"
      ],
      "metadata": {
        "id": "5z7vFUK5h5BE"
      },
      "execution_count": 9,
      "outputs": []
    },
    {
      "cell_type": "code",
      "source": [
        "#error calculation\n",
        "errors=[]\n",
        "err_1=[]\n",
        "for i in range(int(steps)):\n",
        "  err=np.matmul(np.transpose(Rhat[i]),R[i])\n",
        "  err_1.append(err)\n",
        "  x=np.linalg.norm(err)\n",
        "  errors.append(x)"
      ],
      "metadata": {
        "id": "XEnR-9aTgNmQ"
      },
      "execution_count": 10,
      "outputs": []
    },
    {
      "cell_type": "code",
      "source": [
        "trace=[]\n",
        "for i in range(int(steps)):\n",
        "  trace.append(np.trace(err_1[i]))"
      ],
      "metadata": {
        "id": "SFdQWP7jh11p"
      },
      "execution_count": 11,
      "outputs": []
    },
    {
      "cell_type": "code",
      "source": [
        "x=np.arange(int(steps))\n",
        "plt.plot(x,trace)\n",
        "plt.grid()\n",
        "plt.title(\"Trace of Error Matrix vs Steps\")\n",
        "plt.xlabel(\"Time Steps\")\n",
        "plt.ylabel(\"Trace\")"
      ],
      "metadata": {
        "id": "0euDHO1uiG2d",
        "colab": {
          "base_uri": "https://localhost:8080/",
          "height": 312
        },
        "outputId": "bddae2b9-7643-4a04-ed76-3f2638dc6f96"
      },
      "execution_count": 12,
      "outputs": [
        {
          "output_type": "execute_result",
          "data": {
            "text/plain": [
              "Text(0, 0.5, 'Trace')"
            ]
          },
          "metadata": {},
          "execution_count": 12
        },
        {
          "output_type": "display_data",
          "data": {
            "text/plain": [
              "<Figure size 432x288 with 1 Axes>"
            ],
            "image/png": "[encoded data removed]"
          },
          "metadata": {
            "needs_background": "light"
          }
        }
      ]
    }
  ]
}